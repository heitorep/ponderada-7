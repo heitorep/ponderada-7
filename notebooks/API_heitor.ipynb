{
  "cells": [
    {
      "cell_type": "markdown",
      "metadata": {
        "id": "VGc3frYIP-4p"
      },
      "source": [
        "## Autoestudo Ponderado | Construção de uma API com Integração à API para Geração de Histórias\n",
        "\n",
        "## Contexto: API de Geração e Gerenciamento de Histórias Interativas\n",
        "\n",
        "Numa era onde o conteúdo é consumido rapidamente e em vastas quantidades, a demanda por histórias originais e envolventes nunca foi tão alta. Essa API tem o potencial de revolucionar o modo como histórias são compartilhadas e experimentadas. Essa tecnologia poderia ser muito bem aproveitada em cenários educacionais, para ajudar estudantes a entender melhor a estrutura de uma narrativa ou até mesmo para criar exercícios de escrita criativa personalizados.\n",
        "\n",
        "### Potenciais Usos Comerciais\n",
        "\n",
        "1. **Plataformas de Conteúdo**: Websites e aplicativos poderiam utilizar essa API para oferecer histórias interativas e personalizadas aos seus usuários.\n",
        "\n",
        "2. **Escrita Colaborativa**: A API poderia ser usada como uma ferramenta de brainstorming para equipes de escritores trabalharem juntas em tempo real.\n",
        "\n",
        "3. **Jogos Narrativos**: Desenvolvedores de jogos poderiam utilizar essa API para criar múltiplos ramos de enredo, aumentando a re-jogabilidade.\n",
        "\n",
        "4. **Educação**: Professores poderiam usar esta ferramenta para ensinar elementos de enredo, estrutura de história e desenvolvimento de personagem de forma interativa.\n",
        "\n",
        "### Flexibilidade e Extensibilidade\n",
        "\n",
        "Embora a integração com a API do ChatGPT seja uma sugestão devido à sua capacidade de gerar textos criativos e coerentes, você está livre para explorar outras abordagens ou APIs de geração de texto que possam servir ao propósito.\n",
        "\n",
        "### Benefícios para os Usuários\n",
        "\n",
        "Com um banco de dados de histórias tão diversificado e interativo:\n",
        "- Usuários podem encontrar inspiração para suas próprias criações.\n",
        "\n",
        "- Escritores podem utilizar a plataforma para testar diferentes abordagens para suas histórias antes de se comprometerem com uma.\n",
        "\n",
        "- Leitores podem desfrutar de narrativas que se adaptam às suas escolhas, tornando a experiência de leitura mais envolvente.\n",
        "\n",
        "\n",
        "## Requisitos\n",
        "\n",
        "### CRUD de Histórias\n",
        "\n",
        "1. **Cadastro e Gerenciamento de Histórias**\n",
        "    - Adicionar uma nova história (título, descrição, categoria)\n",
        "    - Atualizar informações da história\n",
        "    - Remover uma história\n",
        "    - Listar todas as histórias\n",
        "\n",
        "### Geração de Conteúdo\n",
        "\n",
        "2. **Integração com a API do ChatGPT**\n",
        "    - Enviar uma prompt para a API do ChatGPT e receber uma parte da história como resposta\n",
        "    - Adicionar essa parte da história ao conteúdo da história em questão\n",
        "\n",
        "### Gestão de Usuários\n",
        "\n",
        "3. **Cadastro e Gerenciamento de Usuários**\n",
        "    - Registrar um novo usuário\n",
        "    - Atualizar informações do usuário\n",
        "    - Remover um usuário\n",
        "    - Listar todos os usuários\n",
        "\n",
        "### Especificações Técnicas\n",
        "\n",
        "- Utilize FastAPI para a construção da API.\n",
        "- Utilize um banco de dados para armazenar os dados.\n",
        "- A API deve seguir as convenções REST.\n",
        "- A API deve suportar autenticação. (Opcional: Utilize OAuth2)\n",
        "- Utilize Pydantic para validação de dados.\n",
        "- A API deve ter uma documentação interativa (Swagger ou ReDoc).\n",
        "\n",
        "### Critérios de Teste\n",
        "\n",
        "1. **Testes Unitários**\n",
        "    - Testes para todas as funcionalidades do CRUD de histórias e usuários.\n",
        "  \n",
        "2. **Testes de Integração**\n",
        "    - Testes que validam se a API está funcionando como um todo (com o banco de dados).\n",
        "\n",
        "### Documentação\n",
        "\n",
        "- Escreva uma documentação básica que descreva como instalar as dependências e como rodar a API.\n",
        "- Documente todos os endpoints e seus parâmetros.\n",
        "\n",
        "### Entrega\n",
        "\n",
        "- O código deve ser versionado em um repositório Git.\n",
        "- O projeto deve ser entregue em um Caderno Jupyter.\n",
        "- O código do caderno deve ser executável para os avaliadores.\n",
        "- Inclua um arquivo README com todas as instruções necessárias."
      ]
    },
    {
      "cell_type": "markdown",
      "metadata": {
        "id": "Xz6zfSmZne7E"
      },
      "source": [
        "# Entrega a partir daqui"
      ]
    },
    {
      "cell_type": "code",
      "execution_count": 17,
      "metadata": {
        "colab": {
          "base_uri": "https://localhost:8080/"
        },
        "id": "fwTCh56npVhP",
        "outputId": "181337ee-fa37-4f10-a44c-8c893abefe21"
      },
      "outputs": [
        {
          "name": "stdout",
          "output_type": "stream",
          "text": [
            "Defaulting to user installation because normal site-packages is not writeable\n",
            "Requirement already satisfied: fastapi in /Users/felipeasevedo/Library/Python/3.9/lib/python/site-packages (0.111.0)\n",
            "Requirement already satisfied: uvicorn in /Users/felipeasevedo/Library/Python/3.9/lib/python/site-packages (0.30.1)\n",
            "Requirement already satisfied: pydantic in /Users/felipeasevedo/Library/Python/3.9/lib/python/site-packages (2.7.2)\n",
            "Requirement already satisfied: sqlalchemy in /Users/felipeasevedo/Library/Python/3.9/lib/python/site-packages (2.0.30)\n",
            "Requirement already satisfied: orjson>=3.2.1 in /Users/felipeasevedo/Library/Python/3.9/lib/python/site-packages (from fastapi) (3.10.3)\n",
            "Requirement already satisfied: email_validator>=2.0.0 in /Users/felipeasevedo/Library/Python/3.9/lib/python/site-packages (from fastapi) (2.1.1)\n",
            "Requirement already satisfied: typing-extensions>=4.8.0 in /Users/felipeasevedo/Library/Python/3.9/lib/python/site-packages (from fastapi) (4.12.1)\n",
            "Requirement already satisfied: jinja2>=2.11.2 in /Users/felipeasevedo/Library/Python/3.9/lib/python/site-packages (from fastapi) (3.1.4)\n",
            "Requirement already satisfied: starlette<0.38.0,>=0.37.2 in /Users/felipeasevedo/Library/Python/3.9/lib/python/site-packages (from fastapi) (0.37.2)\n",
            "Requirement already satisfied: fastapi-cli>=0.0.2 in /Users/felipeasevedo/Library/Python/3.9/lib/python/site-packages (from fastapi) (0.0.4)\n",
            "Requirement already satisfied: ujson!=4.0.2,!=4.1.0,!=4.2.0,!=4.3.0,!=5.0.0,!=5.1.0,>=4.0.1 in /Users/felipeasevedo/Library/Python/3.9/lib/python/site-packages (from fastapi) (5.10.0)\n",
            "Requirement already satisfied: httpx>=0.23.0 in /Users/felipeasevedo/Library/Python/3.9/lib/python/site-packages (from fastapi) (0.27.0)\n",
            "Requirement already satisfied: python-multipart>=0.0.7 in /Users/felipeasevedo/Library/Python/3.9/lib/python/site-packages (from fastapi) (0.0.9)\n",
            "Requirement already satisfied: click>=7.0 in /Users/felipeasevedo/Library/Python/3.9/lib/python/site-packages (from uvicorn) (8.1.7)\n",
            "Requirement already satisfied: h11>=0.8 in /Users/felipeasevedo/Library/Python/3.9/lib/python/site-packages (from uvicorn) (0.14.0)\n",
            "Requirement already satisfied: annotated-types>=0.4.0 in /Users/felipeasevedo/Library/Python/3.9/lib/python/site-packages (from pydantic) (0.7.0)\n",
            "Requirement already satisfied: pydantic-core==2.18.3 in /Users/felipeasevedo/Library/Python/3.9/lib/python/site-packages (from pydantic) (2.18.3)\n",
            "Requirement already satisfied: dnspython>=2.0.0 in /Users/felipeasevedo/Library/Python/3.9/lib/python/site-packages (from email_validator>=2.0.0->fastapi) (2.6.1)\n",
            "Requirement already satisfied: idna>=2.0.0 in /Users/felipeasevedo/Library/Python/3.9/lib/python/site-packages (from email_validator>=2.0.0->fastapi) (3.7)\n",
            "Requirement already satisfied: typer>=0.12.3 in /Users/felipeasevedo/Library/Python/3.9/lib/python/site-packages (from fastapi-cli>=0.0.2->fastapi) (0.12.3)\n",
            "Requirement already satisfied: httpcore==1.* in /Users/felipeasevedo/Library/Python/3.9/lib/python/site-packages (from httpx>=0.23.0->fastapi) (1.0.5)\n",
            "Requirement already satisfied: certifi in /Users/felipeasevedo/Library/Python/3.9/lib/python/site-packages (from httpx>=0.23.0->fastapi) (2024.6.2)\n",
            "Requirement already satisfied: anyio in /Users/felipeasevedo/Library/Python/3.9/lib/python/site-packages (from httpx>=0.23.0->fastapi) (4.4.0)\n",
            "Requirement already satisfied: sniffio in /Users/felipeasevedo/Library/Python/3.9/lib/python/site-packages (from httpx>=0.23.0->fastapi) (1.3.1)\n",
            "Requirement already satisfied: MarkupSafe>=2.0 in /Users/felipeasevedo/Library/Python/3.9/lib/python/site-packages (from jinja2>=2.11.2->fastapi) (2.1.5)\n",
            "Requirement already satisfied: exceptiongroup>=1.0.2 in /Users/felipeasevedo/Library/Python/3.9/lib/python/site-packages (from anyio->httpx>=0.23.0->fastapi) (1.2.1)\n",
            "Requirement already satisfied: rich>=10.11.0 in /Users/felipeasevedo/Library/Python/3.9/lib/python/site-packages (from typer>=0.12.3->fastapi-cli>=0.0.2->fastapi) (13.7.1)\n",
            "Requirement already satisfied: shellingham>=1.3.0 in /Users/felipeasevedo/Library/Python/3.9/lib/python/site-packages (from typer>=0.12.3->fastapi-cli>=0.0.2->fastapi) (1.5.4)\n",
            "Requirement already satisfied: pygments<3.0.0,>=2.13.0 in /Users/felipeasevedo/Library/Python/3.9/lib/python/site-packages (from rich>=10.11.0->typer>=0.12.3->fastapi-cli>=0.0.2->fastapi) (2.18.0)\n",
            "Requirement already satisfied: markdown-it-py>=2.2.0 in /Users/felipeasevedo/Library/Python/3.9/lib/python/site-packages (from rich>=10.11.0->typer>=0.12.3->fastapi-cli>=0.0.2->fastapi) (3.0.0)\n",
            "Requirement already satisfied: mdurl~=0.1 in /Users/felipeasevedo/Library/Python/3.9/lib/python/site-packages (from markdown-it-py>=2.2.0->rich>=10.11.0->typer>=0.12.3->fastapi-cli>=0.0.2->fastapi) (0.1.2)\n",
            "Requirement already satisfied: pyyaml>=5.1 in /Users/felipeasevedo/Library/Python/3.9/lib/python/site-packages (from uvicorn) (6.0.1)\n",
            "Requirement already satisfied: python-dotenv>=0.13 in /Users/felipeasevedo/Library/Python/3.9/lib/python/site-packages (from uvicorn) (1.0.1)\n",
            "Requirement already satisfied: websockets>=10.4 in /Users/felipeasevedo/Library/Python/3.9/lib/python/site-packages (from uvicorn) (12.0)\n",
            "Requirement already satisfied: httptools>=0.5.0 in /Users/felipeasevedo/Library/Python/3.9/lib/python/site-packages (from uvicorn) (0.6.1)\n",
            "Requirement already satisfied: uvloop!=0.15.0,!=0.15.1,>=0.14.0 in /Users/felipeasevedo/Library/Python/3.9/lib/python/site-packages (from uvicorn) (0.19.0)\n",
            "Requirement already satisfied: watchfiles>=0.13 in /Users/felipeasevedo/Library/Python/3.9/lib/python/site-packages (from uvicorn) (0.22.0)\n",
            "\u001b[33mWARNING: You are using pip version 21.2.4; however, version 24.0 is available.\n",
            "You should consider upgrading via the '/Applications/Xcode.app/Contents/Developer/usr/bin/python3 -m pip install --upgrade pip' command.\u001b[0m\n",
            "Note: you may need to restart the kernel to use updated packages.\n"
          ]
        }
      ],
      "source": [
        "%pip install fastapi uvicorn pydantic sqlalchemy\n"
      ]
    },
    {
      "cell_type": "code",
      "execution_count": 25,
      "metadata": {
        "id": "_9vb_k6Up-Wy"
      },
      "outputs": [],
      "source": [
        "# Importação de bibliotecas necessárias\n",
        "from fastapi import FastAPI, Depends\n",
        "from sqlalchemy import create_engine, Column, Integer, String, Boolean\n",
        "from sqlalchemy.ext.declarative import declarative_base\n",
        "from sqlalchemy.orm import sessionmaker, Session\n",
        "from pydantic import BaseModel\n",
        "from typing import List\n"
      ]
    },
    {
      "cell_type": "code",
      "execution_count": 19,
      "metadata": {
        "id": "_VH3m6nLqEsy"
      },
      "outputs": [
        {
          "name": "stderr",
          "output_type": "stream",
          "text": [
            "/var/folders/6m/1cbhxvtx7rnfw6b38vwvm9n80000gn/T/ipykernel_3105/3155979673.py:6: MovedIn20Warning: The ``declarative_base()`` function is now available as sqlalchemy.orm.declarative_base(). (deprecated since: 2.0) (Background on SQLAlchemy 2.0 at: https://sqlalche.me/e/b8d9)\n",
            "  Base = declarative_base()\n"
          ]
        }
      ],
      "source": [
        "# Configuração da conexão com o banco de dados\n",
        "DATABASE_URL = \"sqlite:///./test.db\"\n",
        "engine = create_engine(DATABASE_URL, connect_args={\"check_same_thread\": False})\n",
        "SessionLocal = sessionmaker(autocommit=False, autoflush=False, bind=engine)\n",
        "\n",
        "Base = declarative_base()\n"
      ]
    },
    {
      "cell_type": "code",
      "execution_count": 20,
      "metadata": {},
      "outputs": [],
      "source": [
        "# Função para obter uma sessão de banco de dados\n",
        "def get_db():\n",
        "    db = SessionLocal()\n",
        "    try:\n",
        "        yield db\n",
        "    finally:\n",
        "        db.close()\n"
      ]
    },
    {
      "cell_type": "code",
      "execution_count": 21,
      "metadata": {},
      "outputs": [],
      "source": [
        "# Definição dos modelos do banco de dados\n",
        "class Story(Base):\n",
        "    __tablename__ = 'stories'\n",
        "    id = Column(Integer, primary_key=True, index=True)\n",
        "    title = Column(String, index=True)\n",
        "    description = Column(String)\n",
        "    category = Column(String)\n",
        "\n",
        "class User(Base):\n",
        "    __tablename__ = 'users'\n",
        "    id = Column(Integer, primary_key=True, index=True)\n",
        "    email = Column(String, unique=True, index=True)\n",
        "    hashed_password = Column(String)\n",
        "    is_active = Column(Boolean, default=True)\n",
        "\n",
        "# Criar tabelas no banco de dados\n",
        "Base.metadata.create_all(bind=engine)\n"
      ]
    },
    {
      "cell_type": "code",
      "execution_count": 22,
      "metadata": {},
      "outputs": [],
      "source": [
        "# Definição de esquemas Pydantic para validação de dados\n",
        "class StoryBase(BaseModel):\n",
        "    title: str\n",
        "    description: str\n",
        "    category: str\n",
        "\n",
        "class StoryCreate(StoryBase):\n",
        "    pass\n",
        "\n",
        "class StoryDisplay(StoryBase):\n",
        "    id: int\n",
        "\n",
        "class UserBase(BaseModel):\n",
        "    email: str\n",
        "\n",
        "class UserCreate(UserBase):\n",
        "    password: str\n",
        "\n",
        "class UserDisplay(UserBase):\n",
        "    id: int\n",
        "    is_active: bool\n"
      ]
    },
    {
      "cell_type": "code",
      "execution_count": 23,
      "metadata": {},
      "outputs": [],
      "source": [
        "# Inicialização da aplicação FastAPI\n",
        "app = FastAPI()\n"
      ]
    },
    {
      "cell_type": "code",
      "execution_count": 26,
      "metadata": {},
      "outputs": [],
      "source": [
        "# Definição de endpoints CRUD para histórias\n",
        "@app.post(\"/stories/\", response_model=StoryDisplay)\n",
        "def create_story(story: StoryCreate, db: Session = Depends(get_db)):\n",
        "    # Implementação para criar uma história\n",
        "    # (Implementação fictícia, substitua pelo código real conforme necessário)\n",
        "    new_story = Story(title=story.title, description=story.description, category=story.category)\n",
        "    db.add(new_story)\n",
        "    db.commit()\n",
        "    db.refresh(new_story)\n",
        "    return new_story\n",
        "\n",
        "@app.get(\"/stories/\", response_model=List[StoryDisplay])\n",
        "def read_stories(skip: int = 0, limit: int = 100, db: Session = Depends(get_db)):\n",
        "    # Implementação para ler histórias\n",
        "    # (Implementação fictícia, substitua pelo código real conforme necessário)\n",
        "    stories = db.query(Story).offset(skip).limit(limit).all()\n",
        "    return stories\n",
        "\n",
        "# Definição de endpoints CRUD para usuários\n",
        "@app.post(\"/users/\", response_model=UserDisplay)\n",
        "def create_user(user: UserCreate, db: Session = Depends(get_db)):\n",
        "    # Implementação para criar um usuário\n",
        "    # (Implementação fictícia, substitua pelo código real conforme necessário)\n",
        "    new_user = User(email=user.email, hashed_password=\"hashed_\" + user.password, is_active=True)\n",
        "    db.add(new_user)\n",
        "    db.commit()\n",
        "    db.refresh(new_user)\n",
        "    return new_user\n",
        "\n",
        "@app.get(\"/users/\", response_model=List[UserDisplay])\n",
        "def read_users(skip: int = 0, limit: int = 100, db: Session = Depends(get_db)):\n",
        "    # Implementação para ler usuários\n",
        "    # (Implementação fictícia, substitua pelo código real conforme necessário)\n",
        "    users = db.query(User).offset(skip).limit(limit).all()\n",
        "    return users\n"
      ]
    }
  ],
  "metadata": {
    "colab": {
      "provenance": []
    },
    "kernelspec": {
      "display_name": "Python 3",
      "name": "python3"
    },
    "language_info": {
      "codemirror_mode": {
        "name": "ipython",
        "version": 3
      },
      "file_extension": ".py",
      "mimetype": "text/x-python",
      "name": "python",
      "nbconvert_exporter": "python",
      "pygments_lexer": "ipython3",
      "version": "3.9.6"
    }
  },
  "nbformat": 4,
  "nbformat_minor": 0
}
